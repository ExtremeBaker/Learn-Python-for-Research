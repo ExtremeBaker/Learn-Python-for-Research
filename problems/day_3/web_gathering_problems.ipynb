{
 "cells": [
  {
   "cell_type": "markdown",
   "metadata": {},
   "source": [
    "# Gathering data from the web - Problems"
   ]
  },
  {
   "cell_type": "markdown",
   "metadata": {
    "colab_type": "text",
    "id": "rYYTxll6wm6i"
   },
   "source": [
    "**Author:** Ties de Kok ([Personal Website](https://www.tiesdekok.com))  <br>\n",
    "**Last updated:** June 2022  \n",
    "**Python version:** Python 3.6+     \n",
    "**License:** MIT License  \n",
    "**Recommended environment: `researchPython`**"
   ]
  },
  {
   "cell_type": "code",
   "execution_count": 1,
   "metadata": {},
   "outputs": [],
   "source": [
    "import os\n",
    "recommendedEnvironment = 'researchPython'\n",
    "if os.environ['CONDA_DEFAULT_ENV'] != recommendedEnvironment:\n",
    "    print('Warning: it does not appear you are using the {0} environment, did you run \"conda activate {0}\" before starting Jupyter?'.format(recommendedEnvironment))"
   ]
  },
  {
   "cell_type": "markdown",
   "metadata": {},
   "source": [
    "<div style='border-style: solid; padding: 10px; border-color: black; border-width:5px;  text-align: left; margin-top:20px; margin-bottom: 20px;'>\n",
    "<span style='color:black; font-size: 30px; font-weight:bold;'>Introduction</span>\n",
    "</div>"
   ]
  },
  {
   "cell_type": "markdown",
   "metadata": {
    "colab_type": "text",
    "id": "XDCbIPT4wm6l"
   },
   "source": [
    "<div style='border-style: solid; padding: 5px; border-color: darkred; border-width:5px;  text-align: center; margin-left: 100px; margin-right:100px;'>\n",
    "<span style='color:black; font-size: 20px; font-weight:bold;'> Make sure to open up the respective tutorial notebook(s)! <br> That is what you are expected to use as primariy reference material. </span>\n",
    "</div>"
   ]
  },
  {
   "cell_type": "markdown",
   "metadata": {},
   "source": [
    "### Relevant tutorial notebooks:\n",
    "\n",
    "1) [`0_python_basics.ipynb`](https://nbviewer.jupyter.org/github/TiesdeKok/LearnPythonforResearch/blob/master/0_python_basics.ipynb)  \n",
    "\n",
    "\n",
    "2) [`2_handling_data.ipynb`](https://nbviewer.jupyter.org/github/TiesdeKok/LearnPythonforResearch/blob/master/2_handling_data.ipynb)  \n",
    "\n",
    "\n",
    "3) [`4_web_scraping.ipynb`](https://nbviewer.jupyter.org/github/TiesdeKok/LearnPythonforResearch/blob/master/4_web_scraping.ipynb)  "
   ]
  },
  {
   "cell_type": "markdown",
   "metadata": {},
   "source": [
    "## Import required packages  "
   ]
  },
  {
   "cell_type": "code",
   "execution_count": 2,
   "metadata": {},
   "outputs": [],
   "source": [
    "import requests\n",
    "from requests_html import HTMLSession"
   ]
  },
  {
   "cell_type": "code",
   "execution_count": 3,
   "metadata": {},
   "outputs": [],
   "source": [
    "import pandas as pd\n",
    "import numpy as np"
   ]
  },
  {
   "cell_type": "markdown",
   "metadata": {},
   "source": [
    "### Also run the code below, it solves a couple of minor problems that you don't need to worry about"
   ]
  },
  {
   "cell_type": "code",
   "execution_count": 4,
   "metadata": {},
   "outputs": [],
   "source": [
    "from IPython.display import HTML\n",
    "import time\n",
    "def show_image(url):\n",
    "    return HTML('<img src=\"{}?{}\"></img>'.format(url, int(time.time())))"
   ]
  },
  {
   "cell_type": "code",
   "execution_count": 5,
   "metadata": {},
   "outputs": [],
   "source": [
    "from requests.packages.urllib3.exceptions import InsecureRequestWarning\n",
    "requests.packages.urllib3.disable_warnings(InsecureRequestWarning)"
   ]
  },
  {
   "cell_type": "markdown",
   "metadata": {},
   "source": [
    "<div style='border-style: solid; padding: 5px; border-color: darkred; border-width:5px;  text-align: center; margin-left: 100px; margin-right:100px; margin-bottom:50px; margin-top:50px;'>\n",
    "<span style='color:black; font-size: 20px; font-weight:bold;'> Warning: if you are using Python 3.8 or 3.9 you might experience a bug with requests-html where the \".find()\" function will return too much text even if the CSS selector is correct.  You can check whether this is the case using the code below, if it shows an error, please follow the alternative instructions using requests + LXML.</span>"
   ]
  },
  {
   "cell_type": "code",
   "execution_count": 6,
   "metadata": {},
   "outputs": [],
   "source": [
    "def check_requests_issue():\n",
    "    page = 'https://foster.uw.edu/faculty-research/directory/david-burgstahler/'\n",
    "    name_selector = '#foster-content h2.entry-title'\n",
    "    correct_string = 'David Burgstahler'\n",
    "\n",
    "    session = HTMLSession()\n",
    "    res = session.get(page)\n",
    "    name_element = res.html.find(name_selector, first=True)\n",
    "    if name_element.text == correct_string:\n",
    "        print('Your system does not have the bug, you are good to use requests-html!')\n",
    "    else:\n",
    "        assert name_element.text == correct_string, \"Error, your system has the bug. :(\""
   ]
  },
  {
   "cell_type": "code",
   "execution_count": 7,
   "metadata": {},
   "outputs": [
    {
     "name": "stdout",
     "output_type": "stream",
     "text": [
      "Your system does not have the bug, you are good to use requests-html!\n"
     ]
    }
   ],
   "source": [
    "check_requests_issue()"
   ]
  },
  {
   "cell_type": "markdown",
   "metadata": {},
   "source": [
    "**If the above resulted in an error that you system has the bug, please remove `lxml` and and `requests-html` and reinstall it:**\n",
    "\n",
    "```bash\n",
    "pip uninstall lxml\n",
    "pip uninstall requests-html\n",
    "\n",
    "pip install lxml\n",
    "pip install request-html\n",
    "```"
   ]
  },
  {
   "cell_type": "markdown",
   "metadata": {},
   "source": [
    "<div style='border-style: solid; padding: 10px; border-color: black; border-width:5px;  text-align: center; margin-top:20px; margin-bottom: 20px;'>\n",
    "<span style='color:black; font-size: 30px; font-weight:bold;'>Part 1 </span>\n",
    "</div>  \n",
    "\n",
    "<div style='border-style: solid; padding: 5px; border-color: darkred; border-width:5px;  text-align: center; margin-left: 100px; margin-right:100px;'>\n",
    "<span style='color:black; font-size: 15px; font-weight:bold;'> Note: feel free to add as many cells as you'd like to answer these problems, you don't have to fit it all in one cell. </span>\n",
    "</div>"
   ]
  },
  {
   "cell_type": "markdown",
   "metadata": {},
   "source": [
    "The goal of these problems is to get hands-on experience with gathering data from the Web using `Requests` and `Requests-HTML`."
   ]
  },
  {
   "cell_type": "markdown",
   "metadata": {},
   "source": [
    "The tasks below are split up into two sections:  \n",
    "\n",
    "1. API tasks  \n",
    "\n",
    "2. Web scraping tasks  "
   ]
  },
  {
   "cell_type": "markdown",
   "metadata": {},
   "source": [
    "<div style='border-style: solid; padding: 10px; border-color: black; border-width:5px;  text-align: left; margin-top:20px; margin-bottom: 20px;'>\n",
    "<span style='color:black; font-size: 30px; font-weight:bold;'>API Problem</span>\n",
    "</div>"
   ]
  },
  {
   "cell_type": "markdown",
   "metadata": {},
   "source": [
    "## 1) Use the `genderize.io` API with the `requests` library"
   ]
  },
  {
   "cell_type": "markdown",
   "metadata": {},
   "source": [
    "Use this API: https://genderize.io/"
   ]
  },
  {
   "cell_type": "markdown",
   "metadata": {},
   "source": [
    "**NOTE:** it might be that this API is down if you get a \"too many requests message\""
   ]
  },
  {
   "cell_type": "markdown",
   "metadata": {},
   "source": [
    "### 1a) Use the API to automatically guess the gender of your first name"
   ]
  },
  {
   "cell_type": "code",
   "execution_count": null,
   "metadata": {},
   "outputs": [],
   "source": []
  },
  {
   "cell_type": "code",
   "execution_count": null,
   "metadata": {},
   "outputs": [],
   "source": []
  },
  {
   "cell_type": "markdown",
   "metadata": {},
   "source": [
    "### 1b) Write a function that take any first name as input and that uses the API to return the predicted gender and probability"
   ]
  },
  {
   "cell_type": "code",
   "execution_count": null,
   "metadata": {},
   "outputs": [],
   "source": []
  },
  {
   "cell_type": "code",
   "execution_count": null,
   "metadata": {},
   "outputs": [],
   "source": []
  },
  {
   "cell_type": "markdown",
   "metadata": {},
   "source": [
    "### 1c) Create a list of names, and use the `guess_gender` function to predict the gender of each name. Include a 1 second pause after each guess.  \n",
    "**Hint:** *use the `time` library for the pause*"
   ]
  },
  {
   "cell_type": "code",
   "execution_count": null,
   "metadata": {},
   "outputs": [],
   "source": []
  },
  {
   "cell_type": "code",
   "execution_count": null,
   "metadata": {},
   "outputs": [],
   "source": []
  },
  {
   "cell_type": "markdown",
   "metadata": {},
   "source": [
    "<div style='border-style: solid; padding: 10px; border-color: black; border-width:5px;  text-align: left; margin-top:20px; margin-bottom: 20px;'>\n",
    "<span style='color:black; font-size: 30px; font-weight:bold;'>Web Scraping Problem</span>\n",
    "</div>"
   ]
  },
  {
   "cell_type": "markdown",
   "metadata": {},
   "source": [
    "## 2) Create a webscraper that can collect information for a Foster Faculty member"
   ]
  },
  {
   "cell_type": "markdown",
   "metadata": {},
   "source": [
    "Your goal is to create a webscraper that can extract the following information from a Foster Faculty staff page (such as this one: https://foster.uw.edu/faculty-research/directory/david-burgstahler/ ):\n",
    "\n",
    "* Name  \n",
    "* URL to profile image  \n",
    "* Title of first selected publication"
   ]
  },
  {
   "cell_type": "markdown",
   "metadata": {},
   "source": [
    "**Hint 1:** use the `requests-html` library (or `requests` + `lxml` if you experience the bug)  \n",
    "**Hint 2:** if you get an error mentioning SSL --> add `, verify=False` to the `session.get()` command like so: `session.get(.... , verify=False)`"
   ]
  },
  {
   "cell_type": "markdown",
   "metadata": {},
   "source": [
    "### 2a) Use `requests-html` to extract the above three pieces of information from the Faculty page of David Burgstahler  \n",
    "url = https://foster.uw.edu/faculty-research/directory/david-burgstahler/\n",
    "\n",
    "---\n",
    "\n",
    "**Tip** you can show a picture from a URL in the notebook by using the provided `show_image(url)` function"
   ]
  },
  {
   "cell_type": "code",
   "execution_count": null,
   "metadata": {},
   "outputs": [],
   "source": []
  },
  {
   "cell_type": "code",
   "execution_count": null,
   "metadata": {},
   "outputs": [],
   "source": []
  },
  {
   "cell_type": "markdown",
   "metadata": {},
   "source": [
    "### 2b) Create a function that takes a URL for a Staff page and extracts the three pieces of information and returns it as a dictionary  \n",
    "Make sure to test your function by feeding it with the URL for various staff members! A full list is available here:  \n",
    "https://foster.uw.edu/faculty-research/academic-departments/accounting/faculty/   \n",
    "\n",
    "**Warning:** make sure that the function can deal with faculty members that do not have a picture or any selected publication, test if with (for example):   \n",
    "https://foster.uw.edu/faculty-research/directory/jane-jollineau/"
   ]
  },
  {
   "cell_type": "code",
   "execution_count": null,
   "metadata": {},
   "outputs": [],
   "source": []
  },
  {
   "cell_type": "code",
   "execution_count": null,
   "metadata": {},
   "outputs": [],
   "source": []
  },
  {
   "cell_type": "markdown",
   "metadata": {},
   "source": [
    "<div style='border-style: solid; padding: 10px; border-color: black; border-width:5px;  text-align: left; margin-top:20px; margin-bottom: 20px;'>\n",
    "<span style='color:black; font-size: 30px; font-weight:bold;'>Part 2: Advanced Funcionality</span>\n",
    "</div>"
   ]
  },
  {
   "cell_type": "markdown",
   "metadata": {},
   "source": [
    "<div style='border-style: solid; padding: 10px; border-color: black; border-width:5px;  text-align: left; margin-top:20px; margin-bottom: 20px;'>\n",
    "<span style='color:black; font-size: 30px; font-weight:bold;'>API Problem</span>\n",
    "</div>"
   ]
  },
  {
   "cell_type": "markdown",
   "metadata": {},
   "source": [
    "## 3) Get current picture of camera using the `NPS` (National Park Service) API and `requests`"
   ]
  },
  {
   "cell_type": "markdown",
   "metadata": {},
   "source": [
    "### 3a) Get access key"
   ]
  },
  {
   "cell_type": "markdown",
   "metadata": {},
   "source": [
    "Go to \" https://www.nps.gov/subjects/developer/get-started.htm \" in your browser.  \n",
    "Fill out the form using your credentials (or random credentials like test@test.com) and copy the access key and assign it to a Python variable."
   ]
  },
  {
   "cell_type": "code",
   "execution_count": null,
   "metadata": {},
   "outputs": [],
   "source": []
  },
  {
   "cell_type": "markdown",
   "metadata": {},
   "source": [
    "### 3b) Test the API and retrieve the alerts for MT Rainier National Park\n",
    "\n",
    "The API requires that you pass the API key as a header, which you can do using:\n",
    "\n",
    "```python\n",
    "\n",
    "headers = {\n",
    "    'X-Api-Key' : '<YOUR KEY>'\n",
    "}\n",
    "\n",
    "url = 'https://developer.nps.gov/api/v1/alerts'\n",
    "\n",
    "res = requests.get(url, params = <your_params>, headers = headers)\n",
    "\n",
    "```\n",
    "\n",
    "For details on the alerts endpoint check:\n",
    "    \n",
    "https://www.nps.gov/subjects/developer/api-documentation.htm#/alerts\n",
    "\n",
    "The park code for Mt Rainier is `mora`."
   ]
  },
  {
   "cell_type": "code",
   "execution_count": null,
   "metadata": {},
   "outputs": [],
   "source": []
  },
  {
   "cell_type": "code",
   "execution_count": null,
   "metadata": {},
   "outputs": [],
   "source": []
  },
  {
   "cell_type": "markdown",
   "metadata": {},
   "source": [
    "### 3c) Retrieve the URL to the webcam of Hurricane Ridge in the Olympic National Park\n",
    "\n",
    "The endpoint is documented here: https://www.nps.gov/subjects/developer/api-documentation.htm#/webcams/getWebcams\n",
    "\n",
    "The details are:\n",
    "- Park code: `olym`\n",
    "- Webcam id: `577E4D96-8E42-4F3A-B074-944CD63BADB3`"
   ]
  },
  {
   "cell_type": "code",
   "execution_count": null,
   "metadata": {},
   "outputs": [],
   "source": []
  },
  {
   "cell_type": "code",
   "execution_count": null,
   "metadata": {},
   "outputs": [],
   "source": []
  },
  {
   "cell_type": "markdown",
   "metadata": {},
   "source": [
    "<div style='border-style: solid; padding: 10px; border-color: black; border-width:5px;  text-align: left; margin-top:20px; margin-bottom: 20px;'>\n",
    "<span style='color:black; font-size: 30px; font-weight:bold;'>Web Scraping Problem</span>\n",
    "</div>"
   ]
  },
  {
   "cell_type": "markdown",
   "metadata": {},
   "source": [
    "## 4) Create a webscraper that creates an Excel sheet with information for all Foster (UW) Faculty members in Accounting"
   ]
  },
  {
   "cell_type": "markdown",
   "metadata": {},
   "source": [
    "### 4a) Create a list of URLs for all the Foster faculty members in Accounting  \n",
    "This information is here: https://foster.uw.edu/faculty-research/academic-departments/accounting/faculty/\n",
    "\n",
    "**Hint 1:** use the `requests-html` library (or `requests` + `lxml` if you experience the bug)  \n",
    "**Hint 2:** if you get an error mentioning SSL --> add `, verify=False` to the `session.get()` command like so: `session.get(.... , verify=False)`"
   ]
  },
  {
   "cell_type": "code",
   "execution_count": null,
   "metadata": {},
   "outputs": [],
   "source": []
  },
  {
   "cell_type": "code",
   "execution_count": null,
   "metadata": {},
   "outputs": [],
   "source": []
  },
  {
   "cell_type": "markdown",
   "metadata": {},
   "source": [
    "### 4b) Apply the function you created in step 2b to all the URLs you gathered in step 4a and save it all (including the URL) to a Pandas DataFrame\n",
    "\n",
    "Optional, you track the progress using the `tqdm` library:\n",
    "\n",
    "```python\n",
    "from tqdm.notebook import tqdm\n",
    "\n",
    "for i in tqdm(range(100)):\n",
    "    time.sleep(0.5)\n",
    "```"
   ]
  },
  {
   "cell_type": "code",
   "execution_count": null,
   "metadata": {},
   "outputs": [],
   "source": []
  },
  {
   "cell_type": "code",
   "execution_count": null,
   "metadata": {},
   "outputs": [],
   "source": []
  },
  {
   "cell_type": "markdown",
   "metadata": {},
   "source": [
    "## 5) Create a function that retrieves all the sport events in Seattle for a given date range"
   ]
  },
  {
   "attachments": {
    "3ae73615-1f04-46b9-82dc-b46427c19ee2.png": {
     "image/png": "[encoded data removed]"
    }
   },
   "cell_type": "markdown",
   "metadata": {},
   "source": [
    "https://visitseattle.org/ maintains an event calendar for events in Seattle.  \n",
    "\n",
    "You can find the sports events at this page:  \n",
    "https://visitseattle.org/?s&frm=events&event_type%5B0%5D=sports\n",
    "\n",
    "**Task:** create a function that takes a starting date and an end date and returns the following information about the sports events:\n",
    "\n",
    "* Title  \n",
    "* Link  \n",
    "* Location  \n",
    "* Date info  \n",
    "\n",
    "**Optional challenge:** extend your function so that it can handle pagination (i.e., more than just one page). \n",
    "\n",
    "![image.png](attachment:3ae73615-1f04-46b9-82dc-b46427c19ee2.png)"
   ]
  },
  {
   "cell_type": "code",
   "execution_count": null,
   "metadata": {},
   "outputs": [],
   "source": []
  },
  {
   "cell_type": "code",
   "execution_count": null,
   "metadata": {},
   "outputs": [],
   "source": []
  },
  {
   "cell_type": "code",
   "execution_count": null,
   "metadata": {},
   "outputs": [],
   "source": []
  }
 ],
 "metadata": {
  "kernelspec": {
   "display_name": "Python 3 (ipykernel)",
   "language": "python",
   "name": "python3"
  },
  "language_info": {
   "codemirror_mode": {
    "name": "ipython",
    "version": 3
   },
   "file_extension": ".py",
   "mimetype": "text/x-python",
   "name": "python",
   "nbconvert_exporter": "python",
   "pygments_lexer": "ipython3",
   "version": "3.9.13"
  }
 },
 "nbformat": 4,
 "nbformat_minor": 4
}
